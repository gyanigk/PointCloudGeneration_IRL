{
 "cells": [
  {
   "cell_type": "code",
   "execution_count": 46,
   "id": "96d194cf",
   "metadata": {},
   "outputs": [],
   "source": [
    "import numpy as np\n"
   ]
  },
  {
   "cell_type": "code",
   "execution_count": 163,
   "id": "ef7f9e49",
   "metadata": {},
   "outputs": [],
   "source": [
    "# Random initialization of a (2D array)\n"
   ]
  },
  {
   "cell_type": "code",
   "execution_count": null,
   "id": "27a8efe7",
   "metadata": {},
   "outputs": [],
   "source": [
    "def point_cloud(depth):\n",
    "    \"\"\"Transform a depth image into a point cloud with one point for each\n",
    "    pixel in the image, using the camera transform for a camera\n",
    "    centred at cx, cy with field of view fx, fy.\n",
    "\n",
    "    depth is a 2-D ndarray with shape (rows, cols) containing\n",
    "    depths from 1 to 254 inclusive. The result is a 3-D array with\n",
    "    shape (rows, cols, 3). Pixels with invalid depth in the input have\n",
    "    NaN for the z-coordinate in the result.\n",
    "\n",
    "    \"\"\"\n",
    "   \n",
    "    intrinsics = depth.profile.as_video_stream_profile().intrinsics\n",
    "    depth = np.asanyarray(depth.get_data())/1000\n",
    "    rows, cols = depth.shape\n",
    "    #print(depth)\n",
    "    #points = np.zeros((rows*cols, 3),np.float32)\n",
    "    c, r = np.meshgrid(np.arange(cols), np.arange(rows), sparse=True)\n",
    "    valid = (depth > 0) & (depth < 255)\n",
    "    \n",
    "    z = np.where(valid, depth / 1, np.nan)\n",
    "    x = np.where(valid, z * (c - intrinsics.ppx) / intrinsics.fx, 0)\n",
    "    y = np.where(valid, z * (r - intrinsics.ppy) / intrinsics.fy, 0)\n",
    "\n",
    "    return np.dstack((x, y, z))"
   ]
  },
  {
   "cell_type": "code",
   "execution_count": null,
   "id": "ccd61f27",
   "metadata": {},
   "outputs": [],
   "source": [
    "def point_cloud2(depth, rgb):\n",
    "    \"\"\"Transform a depth image into a point cloud with one point for each\n",
    "    pixel in the image, using the camera transform for a camera\n",
    "    centred at cx, cy with field of view fx, fy.\n",
    "\n",
    "    depth is a 2-D ndarray with shape (rows, cols) containing\n",
    "    depths from 1 to 254 inclusive. The result is a 3-D array with\n",
    "    shape (rows, cols, 3). Pixels with invalid depth in the input have\n",
    "    NaN for the z-coordinate in the result.\n",
    "\n",
    "    \"\"\"\n",
    "   \n",
    "    intrinsics = depth.profile.as_video_stream_profile().intrinsics\n",
    "    depth = np.asanyarray(depth.get_data())/1000\n",
    "    rows, cols = depth.shape\n",
    "    #print(depth)\n",
    "    #points = np.zeros((rows*cols, 3),np.float32)\n",
    "    c, r = np.meshgrid(np.arange(cols), np.arange(rows), sparse=True)\n",
    "    valid = (depth > 0) & (depth < 255)\n",
    "    \n",
    "    z = np.where(valid, depth / 1, np.nan)\n",
    "    x = np.where(valid, z * (c - intrinsics.ppx) / intrinsics.fx, 0)\n",
    "    y = np.where(valid, z * (r - intrinsics.ppy) / intrinsics.fy, 0)\n",
    "\n",
    "    points = np.dstack((x, y, z, rgb))\n",
    "    return points.reshape(-1,6)\n"
   ]
  },
  {
   "cell_type": "code",
   "execution_count": 152,
   "id": "13212918",
   "metadata": {},
   "outputs": [],
   "source": [
    "def point_cloud(depth, rgb):\n",
    "    \"\"\"Transform a depth image into a point cloud with one point for each\n",
    "    pixel in the image, using the camera transform for a camera\n",
    "    centred at cx, cy with field of view fx, fy.\n",
    "\n",
    "    depth is a 2-D ndarray with shape (rows, cols) containing\n",
    "    depths from 1 to 254 inclusive. The result is a 3-D array with\n",
    "    shape (rows, cols, 3). Pixels with invalid depth in the input have\n",
    "    NaN for the z-coordinate in the result.\n",
    "\n",
    "    \"\"\"\n",
    "   \n",
    "    #intrinsics = depth.profile.as_video_stream_profile().intrinsics\n",
    "    depth = depth/1000\n",
    "    rows, cols = depth.shape\n",
    "    #print(depth)\n",
    "    #points = np.zeros((rows*cols, 3),np.float32)\n",
    "    c, r = np.meshgrid(np.arange(cols), np.arange(rows), sparse=True)\n",
    "    valid = (depth > 0) & (depth < 255)\n",
    "    valid = np.ravel(valid)\n",
    "    z = depth\n",
    "    x =  z * (c - 327.25) / 608.1\n",
    "    y =  z * (r - 224.03) / 608.2\n",
    "   \n",
    "    z = np.ravel(z)[valid]\n",
    "    x = np.ravel(x)[valid]\n",
    "    y = np.ravel(y)[valid]\n",
    "    \n",
    "\n",
    "    r = np.ravel(rgb[:,:,0])[valid]\n",
    "    g = np.ravel(rgb[:,:,1])[valid]\n",
    "    b = np.ravel(rgb[:,:,2])[valid]\n",
    "    \n",
    "    print(\"z.shape\", z.shape)\n",
    "    print(\"x.shape\", x.shape)\n",
    "    print(\"y.shape\", y.shape)\n",
    "        \n",
    "    print(\"r.shape\", r.shape)\n",
    "    print(\"g.shape\", g.shape)\n",
    "    print(\"b.shape\", b.shape)\n",
    "    \n",
    "    return np.vstack((x, y, z, r, g, b))"
   ]
  },
  {
   "cell_type": "code",
   "execution_count": 153,
   "id": "90e8ab12",
   "metadata": {},
   "outputs": [
    {
     "name": "stdout",
     "output_type": "stream",
     "text": [
      "z.shape (153387,)\n",
      "x.shape (153387,)\n",
      "y.shape (153387,)\n",
      "r.shape (153387,)\n",
      "g.shape (153387,)\n",
      "b.shape (153387,)\n"
     ]
    }
   ],
   "source": [
    "depth = np.random.randn(640,480)*1000\n",
    "rgb = np.random.randn(640,480,3)\n",
    "result = point_cloud(depth,rgb)"
   ]
  },
  {
   "cell_type": "code",
   "execution_count": 154,
   "id": "9137dd06",
   "metadata": {},
   "outputs": [
    {
     "data": {
      "text/plain": [
       "(6, 153387)"
      ]
     },
     "execution_count": 154,
     "metadata": {},
     "output_type": "execute_result"
    }
   ],
   "source": [
    "result.shape"
   ]
  },
  {
   "cell_type": "code",
   "execution_count": 155,
   "id": "31217d5a",
   "metadata": {},
   "outputs": [],
   "source": [
    "result2 = result.reshape(-1,6)"
   ]
  },
  {
   "cell_type": "code",
   "execution_count": 156,
   "id": "29443cd2",
   "metadata": {},
   "outputs": [
    {
     "data": {
      "text/plain": [
       "(153387, 6)"
      ]
     },
     "execution_count": 156,
     "metadata": {},
     "output_type": "execute_result"
    }
   ],
   "source": [
    "result2.shape\n"
   ]
  },
  {
   "cell_type": "code",
   "execution_count": 122,
   "id": "655f2309",
   "metadata": {},
   "outputs": [],
   "source": []
  },
  {
   "cell_type": "code",
   "execution_count": null,
   "id": "3c8b66ae",
   "metadata": {},
   "outputs": [],
   "source": []
  },
  {
   "cell_type": "code",
   "execution_count": 133,
   "id": "59ec6b82",
   "metadata": {},
   "outputs": [],
   "source": []
  },
  {
   "cell_type": "code",
   "execution_count": null,
   "id": "01d8a697",
   "metadata": {},
   "outputs": [],
   "source": []
  },
  {
   "cell_type": "code",
   "execution_count": 161,
   "id": "0a7a1613",
   "metadata": {},
   "outputs": [],
   "source": [
    "def depth_image_to_point_cloud(rgb, depth, scale, K, pose):\n",
    "    u = range(0, rgb.shape[1])\n",
    "    v = range(0, rgb.shape[0])\n",
    "\n",
    "    u, v = np.meshgrid(u, v)\n",
    "    u = u.astype(float)\n",
    "    v = v.astype(float)\n",
    "\n",
    "    Z = depth.astype(float) / scale\n",
    "    X = (u - K[0, 2]) * Z / K[0, 0]\n",
    "    Y = (v - K[1, 2]) * Z / K[1, 1]\n",
    "\n",
    "    X = np.ravel(X)\n",
    "    Y = np.ravel(Y)\n",
    "    Z = np.ravel(Z)\n",
    "    print(\"X\", X.shape)\n",
    "    print(\"Y\", Y.shape)\n",
    "    print(\"Z\", Z.shape)\n",
    "    \n",
    "    valid = Z > 0\n",
    "\n",
    "    X = X[valid]\n",
    "    Y = Y[valid]\n",
    "    Z = Z[valid]\n",
    "\n",
    "    position = np.vstack((X, Y, Z, np.ones(len(X))))\n",
    "    print(position.shape)\n",
    "    position = np.dot(pose, position)\n",
    "    print(position.shape)\n",
    "    R = np.ravel(rgb[:, :, 0])[valid]\n",
    "    G = np.ravel(rgb[:, :, 1])[valid]\n",
    "    B = np.ravel(rgb[:, :, 2])[valid]\n",
    "    print(\"R:\", R.shape)\n",
    "    print(\"G:\", G.shape)\n",
    "    print(\"B:\", B.shape)\n",
    "    points = np.transpose(np.vstack((position[0:3, :], R, G, B))).tolist()\n",
    "    return points\n",
    "\n",
    "def write_point_cloud(ply_filename, points):\n",
    "    formatted_points = []\n",
    "    for point in points:\n",
    "        formatted_points.append(\"%f %f %f %d %d %d 0\\n\" % (point[0], point[1], point[2], point[3], point[4], point[5]))\n",
    "\n",
    "    out_file = open(ply_filename, \"w\")\n",
    "    out_file.write('''ply\n",
    "    format ascii 1.0\n",
    "    element vertex %d\n",
    "    property float x\n",
    "    property float y\n",
    "    property float z\n",
    "    property uchar blue\n",
    "    property uchar green\n",
    "    property uchar red\n",
    "    property uchar alpha\n",
    "    end_header\n",
    "    %s\n",
    "    ''' % (len(points), \"\".join(formatted_points)))\n",
    "    out_file.close()"
   ]
  },
  {
   "cell_type": "code",
   "execution_count": 162,
   "id": "6355ae08",
   "metadata": {},
   "outputs": [
    {
     "name": "stdout",
     "output_type": "stream",
     "text": [
      "X (307200,)\n",
      "Y (307200,)\n",
      "Z (307200,)\n",
      "(4, 153776)\n",
      "(4, 153776)\n",
      "R: (153776,)\n",
      "G: (153776,)\n",
      "B: (153776,)\n"
     ]
    }
   ],
   "source": [
    "rgb = np.random.randn(640,480,3)\n",
    "depth = np.random.randn(640,480)*1000\n",
    "scale = 1000\n",
    "K = np.array([[608.1615600585938, 0.0,  327.25433349609375],\n",
    "              [0.0,  608.27685546875, 244.0302734375], \n",
    "              [0.0     ,    0.0,     1.0]])\n",
    "poses = np.eye(4)\n",
    "points = current_points_3D = depth_image_to_point_cloud(rgb, depth, scale=scale, K=K, pose=poses)"
   ]
  },
  {
   "cell_type": "code",
   "execution_count": 150,
   "id": "d209d4d1",
   "metadata": {},
   "outputs": [],
   "source": [
    "points_arrray = np.asarray(points)"
   ]
  },
  {
   "cell_type": "code",
   "execution_count": 151,
   "id": "e9c83054",
   "metadata": {},
   "outputs": [
    {
     "data": {
      "text/plain": [
       "(153440, 6)"
      ]
     },
     "execution_count": 151,
     "metadata": {},
     "output_type": "execute_result"
    }
   ],
   "source": [
    "points_arrray.shape"
   ]
  }
 ],
 "metadata": {
  "kernelspec": {
   "display_name": "Python 3 (ipykernel)",
   "language": "python",
   "name": "python3"
  },
  "language_info": {
   "codemirror_mode": {
    "name": "ipython",
    "version": 3
   },
   "file_extension": ".py",
   "mimetype": "text/x-python",
   "name": "python",
   "nbconvert_exporter": "python",
   "pygments_lexer": "ipython3",
   "version": "3.8.10"
  }
 },
 "nbformat": 4,
 "nbformat_minor": 5
}
